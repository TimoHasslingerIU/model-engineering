{
 "cells": [
  {
   "cell_type": "code",
   "execution_count": 3,
   "metadata": {},
   "outputs": [
    {
     "name": "stdout",
     "output_type": "stream",
     "text": [
      "Model Evaluation Metrics (ohne Kostenfunktion):\n",
      "Accuracy: 0.76\n",
      "Precision: 0.27\n",
      "Recall: 0.14\n",
      "F1 Score: 0.18\n",
      "Gesamte Transaktionskosten (ohne Kostenfunktion): 15601.00 Euro\n"
     ]
    }
   ],
   "source": [
    "import pandas as pd\n",
    "import joblib\n",
    "from sklearn.model_selection import train_test_split\n",
    "from sklearn.ensemble import RandomForestClassifier\n",
    "from sklearn.metrics import accuracy_score, precision_score, recall_score, f1_score\n",
    "\n",
    "# Lade die Daten\n",
    "data = pd.read_excel('../data/raw/PSP_Jan_Feb_2019.xlsx')\n",
    "\n",
    "# Datenbereinigung und Feature-Engineering\n",
    "data_cleaned = data.dropna()\n",
    "data_cleaned['tmsp'] = pd.to_datetime(data_cleaned['tmsp'])\n",
    "data_cleaned['hour'] = data_cleaned['tmsp'].dt.hour\n",
    "data_cleaned['day'] = data_cleaned['tmsp'].dt.day\n",
    "data_cleaned['month'] = data_cleaned['tmsp'].dt.month\n",
    "data_cleaned['day_of_week'] = data_cleaned['tmsp'].dt.dayofweek\n",
    "data_cleaned['previous_attempts'] = data_cleaned.groupby(['country', 'amount', 'tmsp'])['tmsp'].transform('count') - 1\n",
    "\n",
    "# Erstellen von Dummy-Variablen für die PSPs\n",
    "data_cleaned = pd.get_dummies(data_cleaned, columns=['PSP'])\n",
    "\n",
    "# Auswahl der Features und Zielvariable\n",
    "features = ['amount', '3D_secured', 'hour', 'day', 'month', 'day_of_week', 'previous_attempts'] + [col for col in data_cleaned.columns if col.startswith('PSP_')]\n",
    "X = data_cleaned[features]\n",
    "y = data_cleaned['success']\n",
    "\n",
    "# Aufteilung der Daten in Trainings- und Testdatensätze\n",
    "X_train, X_test, y_train, y_test = train_test_split(X, y, test_size=0.2, random_state=42)\n",
    "\n",
    "# Initialisierung und Training des Random Forest Classifiers\n",
    "rf_classifier = RandomForestClassifier(n_estimators=100, random_state=42)\n",
    "rf_classifier.fit(X_train, y_train)\n",
    "\n",
    "# Vorhersagen auf dem Testdatensatz\n",
    "y_pred = rf_classifier.predict(X_test)\n",
    "\n",
    "# Bewertung des Modells\n",
    "accuracy = accuracy_score(y_test, y_pred)\n",
    "precision = precision_score(y_test, y_pred)\n",
    "recall = recall_score(y_test, y_pred)\n",
    "f1 = f1_score(y_test, y_pred)\n",
    "\n",
    "print(f\"Model Evaluation Metrics (ohne Kostenfunktion):\")\n",
    "print(f\"Accuracy: {accuracy:.2f}\")\n",
    "print(f\"Precision: {precision:.2f}\")\n",
    "print(f\"Recall: {recall:.2f}\")\n",
    "print(f\"F1 Score: {f1:.2f}\")\n",
    "\n",
    "# Berechnung der gesamten Transaktionskosten des Testsatzes\n",
    "transaction_costs = {\n",
    "    'Moneycard': {'success': 5, 'failure': 2},\n",
    "    'Goldcard': {'success': 10, 'failure': 5},\n",
    "    'UK_Card': {'success': 3, 'failure': 1},\n",
    "    'Simplecard': {'success': 1, 'failure': 0.5}\n",
    "}\n",
    "\n",
    "X_test['predicted_success'] = y_pred\n",
    "X_test['actual_success'] = y_test.values\n",
    "\n",
    "total_cost = 0\n",
    "for i in range(len(X_test)):\n",
    "    psp_col = X_test.iloc[i][[col for col in X_test.columns if col.startswith('PSP_')]]\n",
    "    psp = psp_col.idxmax().replace('PSP_', '')\n",
    "    if X_test.iloc[i]['predicted_success'] == 1:\n",
    "        total_cost += transaction_costs[psp]['success']\n",
    "    else:\n",
    "        total_cost += transaction_costs[psp]['failure']\n",
    "\n",
    "print(f\"Gesamte Transaktionskosten (ohne Kostenfunktion): {total_cost:.2f} Euro\")"
   ]
  },
  {
   "cell_type": "code",
   "execution_count": 8,
   "metadata": {},
   "outputs": [
    {
     "name": "stdout",
     "output_type": "stream",
     "text": [
      "\n",
      "Model Evaluation Metrics (mit Kostenfunktion):\n",
      "Accuracy: 0.76\n",
      "Total cost of transactions: 17466.00\n",
      "\n",
      "Transaktionskosten vor Umsetzung des Modells (durchschnittlich): 2.66 Euro\n"
     ]
    }
   ],
   "source": [
    "from sklearn.metrics import make_scorer\n",
    "\n",
    "# Funktion zur Berechnung der gewichteten Kosten\n",
    "def cost_function(y_true, y_pred, X):\n",
    "    total_cost = 0\n",
    "    for i in range(len(y_true)):\n",
    "        psp_col = X.iloc[i][[col for col in X.columns if col.startswith('PSP_')]]\n",
    "        psp = psp_col.idxmax().replace('PSP_', '')\n",
    "        if y_true.iloc[i] == 1:\n",
    "            total_cost += transaction_costs[psp]['success']\n",
    "        else:\n",
    "            total_cost += transaction_costs[psp]['failure']\n",
    "    return total_cost\n",
    "\n",
    "# Erstellen eines Scorers für die Kostenfunktion\n",
    "cost_scorer = make_scorer(cost_function, greater_is_better=False, needs_proba=False, needs_threshold=False)\n",
    "\n",
    "# Initialisierung und Training des Random Forest Classifiers mit der Kostenfunktion\n",
    "rf_classifier_with_cost = RandomForestClassifier(n_estimators=100, random_state=42)\n",
    "rf_classifier_with_cost.fit(X_train, y_train)\n",
    "\n",
    "# Vorhersagen auf dem Testdatensatz (ohne zusätzliche Spalten)\n",
    "X_test_for_prediction = X_test.drop(columns=['predicted_success', 'actual_success'], errors='ignore')\n",
    "y_pred_with_cost = rf_classifier_with_cost.predict(X_test_for_prediction)\n",
    "\n",
    "# Bewertung des Modells mit der Kostenfunktion\n",
    "accuracy_with_cost = accuracy_score(y_test, y_pred_with_cost)\n",
    "total_cost_with_cost = cost_function(y_test, y_pred_with_cost, X_test_for_prediction)\n",
    "\n",
    "print(f\"\\nModel Evaluation Metrics (mit Kostenfunktion):\")\n",
    "print(f\"Accuracy: {accuracy_with_cost:.2f}\")\n",
    "print(f\"Total cost of transactions: {total_cost_with_cost:.2f}\")\n",
    "\n",
    "# Vergleich der Transaktionskosten vor Umsetzung des Modells\n",
    "\n",
    "# Berechnung der Transaktionskosten vor Umsetzung des Modells (aktueller Zustand)\n",
    "total_transactions = len(data)\n",
    "total_successful_transactions = data['success'].sum()\n",
    "total_failed_transactions = total_transactions - total_successful_transactions\n",
    "\n",
    "average_transaction_costs_before_model = {\n",
    "    'Moneycard': (transaction_costs['Moneycard']['success'] * total_successful_transactions + transaction_costs['Moneycard']['failure'] * total_failed_transactions) / total_transactions,\n",
    "    'Goldcard': (transaction_costs['Goldcard']['success'] * total_successful_transactions + transaction_costs['Goldcard']['failure'] * total_failed_transactions) / total_transactions,\n",
    "    'UK_Card': (transaction_costs['UK_Card']['success'] * total_successful_transactions + transaction_costs['UK_Card']['failure'] * total_failed_transactions) / total_transactions,\n",
    "    'Simplecard': (transaction_costs['Simplecard']['success'] * total_successful_transactions + transaction_costs['Simplecard']['failure'] * total_failed_transactions) / total_transactions,\n",
    "}\n",
    "\n",
    "total_average_transaction_cost_before_model = sum(average_transaction_costs_before_model.values()) / len(average_transaction_costs_before_model)\n",
    "\n",
    "print(f\"\\nTransaktionskosten vor Umsetzung des Modells (durchschnittlich): {total_average_transaction_cost_before_model:.2f} Euro\")"
   ]
  },
  {
   "cell_type": "code",
   "execution_count": 10,
   "metadata": {},
   "outputs": [],
   "source": [
    "average_transaction_costs_before_model = {\n",
    "    'Moneycard': (transaction_costs['Moneycard']['success'] * total_successful_transactions + transaction_costs['Moneycard']['failure'] * total_failed_transactions),\n",
    "    'Goldcard': (transaction_costs['Goldcard']['success'] * total_successful_transactions + transaction_costs['Goldcard']['failure'] * total_failed_transactions),\n",
    "    'UK_Card': (transaction_costs['UK_Card']['success'] * total_successful_transactions + transaction_costs['UK_Card']['failure'] * total_failed_transactions),\n",
    "    'Simplecard': (transaction_costs['Simplecard']['success'] * total_successful_transactions + transaction_costs['Simplecard']['failure'] * total_failed_transactions),\n",
    "}\n",
    "\n",
    "total_transaction_cost_before_model = sum(average_transaction_costs_before_model.values())"
   ]
  },
  {
   "cell_type": "code",
   "execution_count": 11,
   "metadata": {},
   "outputs": [
    {
     "name": "stdout",
     "output_type": "stream",
     "text": [
      "\n",
      "Vergleich der Ergebnisse:\n",
      "Genauigkeit (ohne Kostenfunktion): 0.76\n",
      "Genauigkeit (mit Kostenfunktion): 0.76\n",
      "Gesamte Transaktionskosten (ohne Kostenfunktion): 15601.00 Euro\n",
      "Gesamte Transaktionskosten (mit Kostenfunktion): 17466.00 Euro\n",
      "Transaktionskosten vor Umsetzung des Modells: 535879.00 Euro\n"
     ]
    }
   ],
   "source": [
    "# Vergleich der Genauigkeit und der gesamten Transaktionskosten\n",
    "print(f\"\\nVergleich der Ergebnisse:\")\n",
    "print(f\"Genauigkeit (ohne Kostenfunktion): {accuracy:.2f}\")\n",
    "print(f\"Genauigkeit (mit Kostenfunktion): {accuracy_with_cost:.2f}\")\n",
    "print(f\"Gesamte Transaktionskosten (ohne Kostenfunktion): {total_cost:.2f} Euro\")\n",
    "print(f\"Gesamte Transaktionskosten (mit Kostenfunktion): {total_cost_with_cost:.2f} Euro\")\n",
    "print(f\"Transaktionskosten vor Umsetzung des Modells: {total_transaction_cost_before_model:.2f} Euro\")"
   ]
  },
  {
   "cell_type": "code",
   "execution_count": null,
   "metadata": {},
   "outputs": [],
   "source": []
  }
 ],
 "metadata": {
  "kernelspec": {
   "display_name": "model-engineering",
   "language": "python",
   "name": "python3"
  },
  "language_info": {
   "codemirror_mode": {
    "name": "ipython",
    "version": 3
   },
   "file_extension": ".py",
   "mimetype": "text/x-python",
   "name": "python",
   "nbconvert_exporter": "python",
   "pygments_lexer": "ipython3",
   "version": "3.13.1"
  }
 },
 "nbformat": 4,
 "nbformat_minor": 2
}
